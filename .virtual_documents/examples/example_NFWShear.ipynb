get_ipython().run_line_magic("matplotlib", " inline")
get_ipython().run_line_magic("reload_ext", " autoreload")
get_ipython().run_line_magic("autoreload", " 2")

import clmm
import galsim
import numpy as np
import descwl_shear_sims as dss
import matplotlib.pyplot as plt

from descwl_shear_sims.galaxies import WLDeblendGalaxyCatalog
from descwl_shear_sims.objlists import get_objlist
from descwl_shear_sims.surveys import get_survey


cosmo = clmm.Cosmology(H0=70.0, Omega_dm0=0.27 - 0.045, Omega_b0=0.045, Omega_k0=0.0)
halo = clmm.Modeling(massdef="mean", delta_mdef=200, halo_profile_model="nfw")
halo.set_cosmo(cosmo)
halo.set_concentration(4)
halo.set_mass(1.0e15)
z_cl = 1.0
# source properties
z_source = 2.0  # all sources in the same plane

shear_obj = dss.shear.ShearNFW(halo, z_cl)


# generate positions
radius = 50 # arcsec
n_gal = 20
theta = np.linspace(0, 360, n_gal) / n_gal
x = np.cos(theta) * radius
y = np.sin(theta) * radius
shifts = np.zeros(n_gal, dtype=[('dx', 'f8'), ('dy', 'f8')])
shifts['dx'] = x
shifts['dy'] = y

shift_list = []
for ss in shifts:
    shift_list.append(galsim.PositionD(ss['dx'], ss['dy']))

# get the shear
shear_list = []
for ss in shift_list:
    shear_list.append(shear_obj.get_shear(z_source, ss))


gamma = []
for ss in shear_list:
    gamma.append(ss.g1 + 1j * ss.g2) 
gamma = np.array(gamma)


angles = np.angle(gamma, deg=True) / 2.
lengths = np.abs(gamma) * 100.

# Create whisker plot
plt.figure(figsize=(6, 6))
plt.quiver(x, y, np.cos(np.deg2rad(angles)), np.sin(np.deg2rad(angles)),
           color="black", headaxislength=0, headlength=0, headwidth=1, pivot = 'middle')
plt.xlabel('x')
plt.ylabel('y')
plt.show()


n_gal = 1
d_array = []
g_array = []
for i in range(10):
    position = galsim.PositionD(3.0 ** i, 0.)
    # get the shear
    shear = shear_obj.get_shear(z_source, position)
    g1 = shear.g1
    g2 = shear.g2
    gabs = np.abs(g1 + 1j * g2)
    d_array.append(3 ** i)
    g_array.append(gabs)
d_array = np.array(d_array)
g_array = np.array(g_array)


plt.plot(d_array / 3600., g_array)
plt.xscale("log")
plt.yscale("log")
plt.xlabel("separation [degree]")
plt.ylabel(r"$|g|$")
# We set kappa_max to 0.8


band="r"
rng = np.random.RandomState(1)
coadd_dim = 500
buff = 50
# galaxy catalog; you can make your own
galaxy_catalog = WLDeblendGalaxyCatalog(
    rng=rng,
    coadd_dim=coadd_dim,
    buff=buff,
    layout="random",
)

survey = get_survey(gal_type=galaxy_catalog.gal_type, band=band)
noise_for_gsparams = survey.noise
lists = get_objlist(
    galaxy_catalog=galaxy_catalog,
    survey=survey,
    star_catalog=None,
    noise=noise_for_gsparams,
)


lists.keys()


lists["redshifts"]



