{
 "cells": [
  {
   "cell_type": "code",
   "execution_count": 14,
   "id": "177f93ce-ec8b-4c36-9ff4-d16951a4941f",
   "metadata": {},
   "outputs": [],
   "source": [
    "%matplotlib inline\n",
    "%reload_ext autoreload\n",
    "%autoreload 2\n",
    "import clmm\n",
    "import numpy as np\n",
    "\n",
    "from descwl_shear_sims.galaxies import make_galaxy_catalog\n",
    "from descwl_shear_sims.galaxies import WLDeblendGalaxyCatalog\n",
    "from descwl_shear_sims.psfs import make_fixed_psf\n",
    "from descwl_shear_sims.surveys import get_survey\n",
    "\n",
    "from descwl_shear_sims.sim import make_sim\n",
    "from descwl_shear_sims.shear import ShearNFW\n",
    "\n",
    "\n",
    "import matplotlib.pyplot as plt\n",
    "\n",
    "\n",
    "cosmo = clmm.Cosmology(H0=70.0, Omega_dm0=0.27 - 0.045, Omega_b0=0.045, Omega_k0=0.0)\n",
    "halo = clmm.Modeling(massdef=\"mean\", delta_mdef=200, halo_profile_model=\"nfw\")\n",
    "halo.set_cosmo(cosmo)\n",
    "halo.set_concentration(4)\n",
    "halo.set_mass(1.0e15)\n",
    "z_cl = 1.0\n",
    "# source properties\n",
    "z_source = 2.0  # all sources in the same plane\n",
    "\n",
    "shear_obj = ShearNFW(halo, z_cl)\n",
    "\n",
    "seed = 74321\n",
    "rng = np.random.RandomState(seed)\n",
    "\n",
    "coadd_dim = 50\n",
    "se_dim = 50\n",
    "psf_dim = 41\n",
    "\n",
    "galaxy_catalog = WLDeblendGalaxyCatalog(\n",
    "    rng=rng,\n",
    "    coadd_dim=coadd_dim,\n",
    "    buff=2,\n",
    "    layout=\"random_disk\",\n",
    ")\n",
    "psf = make_fixed_psf(psf_type=\"gauss\")\n",
    "band_list = [\"r\"]\n",
    "\n",
    "sim_data = make_sim(\n",
    "    rng=rng,\n",
    "    galaxy_catalog=galaxy_catalog,\n",
    "    coadd_dim=coadd_dim,\n",
    "    shear_obj=shear_obj,\n",
    "    psf=psf,\n",
    "    noise_factor=0.0,\n",
    "    bands=band_list,\n",
    ")"
   ]
  },
  {
   "cell_type": "code",
   "execution_count": 15,
   "id": "5db4e4bf-7d48-4bab-9692-1d21f6f0952b",
   "metadata": {},
   "outputs": [],
   "source": [
    "exp = sim_data[\"band_data\"][\"r\"][0]"
   ]
  },
  {
   "cell_type": "code",
   "execution_count": 16,
   "id": "998c9093-b310-4722-af44-bc1c9311866a",
   "metadata": {},
   "outputs": [
    {
     "data": {
      "text/plain": [
       "<matplotlib.image.AxesImage at 0x7f2433ad4690>"
      ]
     },
     "execution_count": 16,
     "metadata": {},
     "output_type": "execute_result"
    },
    {
     "data": {
      "image/png": "[encoded data removed]",
      "text/plain": [
       "<Figure size 640x480 with 1 Axes>"
      ]
     },
     "metadata": {},
     "output_type": "display_data"
    }
   ],
   "source": [
    "plt.imshow(exp.getImage().getArray())"
   ]
  },
  {
   "cell_type": "code",
   "execution_count": null,
   "id": "516ec59d-c0d9-4a63-9d84-1f7a8cdb405d",
   "metadata": {},
   "outputs": [],
   "source": []
  }
 ],
 "metadata": {
  "kernelspec": {
   "display_name": "wl_shear_sim",
   "language": "python",
   "name": "wl_shear_sim"
  },
  "language_info": {
   "codemirror_mode": {
    "name": "ipython",
    "version": 3
   },
   "file_extension": ".py",
   "mimetype": "text/x-python",
   "name": "python",
   "nbconvert_exporter": "python",
   "pygments_lexer": "ipython3",
   "version": "3.11.4"
  }
 },
 "nbformat": 4,
 "nbformat_minor": 5
}
